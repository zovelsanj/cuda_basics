{
 "cells": [
  {
   "cell_type": "markdown",
   "metadata": {},
   "source": [
    "# Find the Bottleneck - Optimize AI Pipelines with Nsight Systems\n",
    "\n",
    "<center><img src=\"images/lab_image.jpg\" width=45%></center>\n",
    "\n",
    "[Nsight Systems](https://developer.nvidia.com/nsight-systems) is part of the NVIDIA Developer Tools, a collection of tools which enable you to develop world-class software that efficiently utilizes the latest NVIDIA hardware from large computing clusters to mobile targets.\n",
    "NVIDIA offers a wide range of developer tools. The below table gives an overview and details which application's are targeted by each tool.\n",
    "\n",
    "<center><img src=\"images/nvidia-developer-tools.svg\" width=85%></center>"
   ]
  },
  {
   "cell_type": "markdown",
   "metadata": {},
   "source": [
    "Nsight Systems is designed to give you a system-wide performance view of your application’s algorithms. It helps you identify the largest opportunities to optimize, and tune your application to scale efficiently across any number of CPUs and GPUs.\n",
    "For further optimizations to CUDA kernels, graphs or OptiX command lists, developers should use [Nsight Compute](https://developer.nvidia.com/nsight-compute).\n",
    "\n",
    "<center><img src=\"images/nsight_flow.png\" width=60%></center>"
   ]
  },
  {
   "cell_type": "markdown",
   "metadata": {},
   "source": [
    "The typical optimization workflow is an iterative process with three main steps:\n",
    "\n",
    "<table style=\"float: left\">\n",
    "<colgroup>\n",
    "       <col span=\"1\" style=\"width: 25%;\">\n",
    "       <col span=\"1\" style=\"width: 50%;\">\n",
    "    </colgroup>\n",
    "<tr>\n",
    "<td>\n",
    "\n",
    "- #### Profile the application\n",
    "\n",
    "- #### Inspect and analyze the profile to identify any bottlenecks\n",
    "\n",
    "- #### Optimize the application to address the bottlenecks\n",
    "\n",
    "</td>\n",
    "<td>\n",
    "<img src=images/Optimization_workflow.jpg width=50%>\n",
    "</td>\n",
    "</tr>\n",
    "</table>"
   ]
  },
  {
   "cell_type": "markdown",
   "metadata": {},
   "source": [
    "## Working with Jupyterlab Notebooks\n",
    "You will find the following elements in the Jupyterlab notebooks:\n",
    "\n",
    "Code cells can be executed by selecting them and pressing *Shift+Enter* or using the `>` (play) icon in the toolbar. You can try it out on the code cell below."
   ]
  },
  {
   "cell_type": "code",
   "execution_count": 1,
   "metadata": {},
   "outputs": [
    {
     "name": "stdout",
     "output_type": "stream",
     "text": [
      "Wed May 28 17:19:46 2025       \n",
      "+-----------------------------------------------------------------------------------------+\n",
      "| NVIDIA-SMI 575.51.03              Driver Version: 575.51.03      CUDA Version: 12.9     |\n",
      "|-----------------------------------------+------------------------+----------------------+\n",
      "| GPU  Name                 Persistence-M | Bus-Id          Disp.A | Volatile Uncorr. ECC |\n",
      "| Fan  Temp   Perf          Pwr:Usage/Cap |           Memory-Usage | GPU-Util  Compute M. |\n",
      "|                                         |                        |               MIG M. |\n",
      "|=========================================+========================+======================|\n",
      "|   0  NVIDIA GeForce RTX 4060 Ti     Off |   00000000:01:00.0 Off |                  N/A |\n",
      "|  0%   41C    P8             11W /  165W |      58MiB /  16380MiB |      0%      Default |\n",
      "|                                         |                        |                  N/A |\n",
      "+-----------------------------------------+------------------------+----------------------+\n",
      "                                                                                         \n",
      "+-----------------------------------------------------------------------------------------+\n",
      "| Processes:                                                                              |\n",
      "|  GPU   GI   CI              PID   Type   Process name                        GPU Memory |\n",
      "|        ID   ID                                                               Usage      |\n",
      "|=========================================================================================|\n",
      "|    0   N/A  N/A          308135      G   /usr/lib/xorg/Xorg                       36MiB |\n",
      "+-----------------------------------------------------------------------------------------+\n"
     ]
    }
   ],
   "source": [
    "!nvidia-smi"
   ]
  },
  {
   "cell_type": "markdown",
   "metadata": {},
   "source": [
    "<div class=\"alert alert-block alert-info\">\n",
    "    <p>Blue blocks start an exercise.</p>\n",
    "</div>"
   ]
  },
  {
   "cell_type": "markdown",
   "metadata": {
    "jupyter": {
     "source_hidden": true
    }
   },
   "source": [
    "Hidden cells. Click to expand them.\n",
    "\n",
    "Here you will find the suggested solution to an exercise or other notes or instructions."
   ]
  },
  {
   "cell_type": "markdown",
   "metadata": {},
   "source": [
    "<div class=\"alert alert-block alert-success\">\n",
    "    <p>Green blocks recap important lessons.</p>\n",
    "</div>"
   ]
  },
  {
   "cell_type": "markdown",
   "metadata": {
    "vscode": {
     "languageId": "markdown"
    }
   },
   "source": [
    "## Table of Contents\n",
    "\n",
    "- [Introduction of the Example: Video Segmentation Pipeline for Background Blurring](Intro.ipynb)\n",
    "- [Step 1 - Getting Started with Nsight Systems](step1.ipynb)\n",
    "- [Step 2 - Data Transfers between Host and GPU](step2.ipynb)\n",
    "- [Step 3 - Nsight Systems Plugins / Write Your Own Data Collectors](step3.ipynb)\n",
    "- [Step 4 - Multi-Report Analysis](step4.ipynb)\n",
    "- [Step 5 - Multi-Node Analysis](step5.ipynb)\n",
    "\n",
    "You can also use the _File Browser_ in the panel on the left to jump to the individual notebooks.\n",
    "\n",
    "Click on the link below to get started. It will open a new tab in the Jupyterlab notebook. You will see such links at the end of each notebook.\n",
    "\n",
    "[Let's get started!](Intro.ipynb)"
   ]
  }
 ],
 "metadata": {
  "kernelspec": {
   "display_name": "venv_cuda",
   "language": "python",
   "name": "python3"
  },
  "language_info": {
   "codemirror_mode": {
    "name": "ipython",
    "version": 3
   },
   "file_extension": ".py",
   "mimetype": "text/x-python",
   "name": "python",
   "nbconvert_exporter": "python",
   "pygments_lexer": "ipython3",
   "version": "3.12.2"
  }
 },
 "nbformat": 4,
 "nbformat_minor": 4
}
