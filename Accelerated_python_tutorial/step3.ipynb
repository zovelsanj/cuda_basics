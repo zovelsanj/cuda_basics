{
 "cells": [
  {
   "cell_type": "markdown",
   "id": "a339e968",
   "metadata": {},
   "source": [
    "## Step 3: Excursion Nsight Systems Plugins"
   ]
  },
  {
   "cell_type": "markdown",
   "id": "9b42555f-3915-47d8-b17d-174725ab000e",
   "metadata": {},
   "source": [
    "In this notebook, we will learn about [Nsight Systems plugins](https://docs.nvidia.com/nsight-systems/UserGuide/index.html#nsight-systems-plugins-preview) and how they can be used to write your own data collectors.\n",
    "\n",
    "\n",
    "## 3.1 Enable Plugins\n",
    "\n",
    "Recent versions of Nsight Systems enable the execution of additional executables with the `--enable` flag. With the following command you get a list of the available prebuilt collector plugins."
   ]
  },
  {
   "cell_type": "code",
   "execution_count": 1,
   "id": "976bef8f",
   "metadata": {},
   "outputs": [
    {
     "name": "stdout",
     "output_type": "stream",
     "text": [
      "Available plugins:\n",
      "\tdoca: Collects performance metrics from the NVIDIA BlueField Data Path Accelerator (DPA) processor.\n",
      "\tnetwork_interface: Collects network adapter metrics from /sys/class/net/\n",
      "\tnvml_metrics: Collects power and temperature metrics using the NVIDIA Management Library (NVML)\n",
      " API\n",
      "\tstorage_metrics: Collect traffic quantity, throughput and operation counters of mounted remote volumes.\n",
      "\tefa_metrics: Collects AWS EFA Infiniband and Ethernet metrics\n"
     ]
    }
   ],
   "source": [
    "!nsys profile --enable=help"
   ]
  },
  {
   "cell_type": "markdown",
   "id": "5b112362",
   "metadata": {},
   "source": [
    "To enable multiple plugins in the same profiling run, the `--enable` flag can be used multiple times.\n",
    "\n",
    "The plugins use NVTX annotations to pass data to Nsight Systems (or any other NVTX handler).\n",
    "\n",
    "The `network_interface` plugin is open source. It can be found in */opt/nvidia/nsight-systems/2025.1.1/target-linux-x64/samples/NetworkPlugin.cpp*."
   ]
  },
  {
   "cell_type": "markdown",
   "id": "97794335",
   "metadata": {},
   "source": [
    "## 3.2 Writing a Custom Plugin\n",
    "\n",
    "Let's take a look at a simple plugin which uses NVTX to pass counter data to Nsight Systems.\n",
    "Open the file [mynvml.c](nsys/plugins/mynvml.c) in another tab.\n",
    "It's a simple C program that uses the NVML API to sample several counters, similar to the prebuilt NVML plugin, but collecting different counters.\n",
    "NVTX annotations are used to describe the `counters_t` data structure and expose it to Nsight Systems.\n",
    "We're using the NVTX domain \"MyNvml\" to avoid collisions with other NVTX instrumented code.\n",
    "\n",
    "The following code box compiles our custom plugin code and copies the executable and a [yaml file](nsys/plugins/mynvml/nsys-plugin.yaml) into the Nsight Systems plugins folder."
   ]
  },
  {
   "cell_type": "code",
   "execution_count": 17,
   "id": "a1a437c6",
   "metadata": {},
   "outputs": [
    {
     "name": "stdout",
     "output_type": "stream",
     "text": [
      "\u001b[01m\u001b[K/home/sanjay42/sanjay/cuda/AcceleratedPythonProgramming/nsys/plugins/mynvml.c:6:10:\u001b[m\u001b[K \u001b[01;31m\u001b[Kfatal error: \u001b[m\u001b[Knvtx3/nvToolsExtCounters.h: No such file or directory\n",
      "    6 | #include \u001b[01;31m\u001b[K<nvtx3/nvToolsExtCounters.h>\u001b[m\u001b[K\n",
      "      |          \u001b[01;31m\u001b[K^~~~~~~~~~~~~~~~~~~~~~~~~~~~\u001b[m\u001b[K\n",
      "compilation terminated.\n",
      "Invalid plugin configuration: Executable path does not exist: /opt/nvidia/nsight-systems/2025.1.3/target-linux-x64/plugins/mynvml/mynvml_plugin\n"
     ]
    }
   ],
   "source": [
    "!gcc /home/sanjay42/sanjay/cuda/AcceleratedPythonProgramming/nsys/plugins/mynvml.c \\\n",
    "    -I/dli/task/NVTX/c/include -I/usr/local/cuda-12.9/include/include \\\n",
    "    -L/usr/local/cuda-12.9/lib64/stubs -lnvidia-ml -ldl \\\n",
    "    -o /home/sanjay42/sanjay/cuda/AcceleratedPythonProgramming/nsys/plugins/mynvml/mynvml_plugin\n",
    "\n",
    "# Copy the plugin binary and the yaml file into the Nsight Systems plugins directory.\n",
    "!sudo cp -r /home/sanjay42/sanjay/cuda/AcceleratedPythonProgramming/nsys/plugins/mynvml /opt/nvidia/nsight-systems/2025.1.3/target-linux-x64/plugins\n",
    "\n",
    "!nsys profile --enable=help"
   ]
  },
  {
   "cell_type": "markdown",
   "id": "2efc7a1c",
   "metadata": {},
   "source": [
    "Our plugin will now show up when executing `nsys profile --enable=help`.\n",
    "\n",
    "## 3.3 Profile with Plugins Enabled\n",
    "\n",
    "Let's enable our custom plugin and the prebuilt plugins _nvml_metrics_ and _network_interface_ for a profiling run of the video segmentation pipeline."
   ]
  },
  {
   "cell_type": "code",
   "execution_count": null,
   "id": "2792387f",
   "metadata": {},
   "outputs": [],
   "source": [
    "!nsys profile --trace cuda,nvtx,nvvideo \\\n",
    "--output reports/optimized_cvcuda_plugins \\\n",
    "--force-overwrite=true \\\n",
    "--enable=MyNvml \\\n",
    "--enable=nvml_metrics \\\n",
    "--enable=\"network_interface,--device=.*\" \\\n",
    "python video_segmentation/main_nvtx-cvcuda-nvcodec.py"
   ]
  },
  {
   "cell_type": "markdown",
   "id": "f2162dd0",
   "metadata": {},
   "source": [
    "With the last (third) enable flag in the command above you can see how arguments can be passed to a plugin. The `--device=.*` flag tells the plugin to collect data for all devices (default is physical devices only).\n",
    "\n",
    "To check that the plugins collected additional metrics, we open the generated report file *reports/cvcuda_plugins.nsys-rep* in the Nsight Systems GUI."
   ]
  },
  {
   "cell_type": "markdown",
   "id": "84432fd1",
   "metadata": {
    "jupyter": {
     "source_hidden": true
    }
   },
   "source": [
    "Screenshot of the Nsight Systems GUI:\n",
    "\n",
    "<center><img src=images/step3/nsys_timeline_plugins.png></center>\n",
    "\n",
    "There are new expandable rows on top of the timeline. After expanding them, you should see green bar charts for\n",
    "* power usage and temperature of the installed GPUs for the NVML plugin\n",
    "* transferred and received bytes for the available network interfaces collected by the network interface plugin\n",
    "* additional GPU utilization metrics collected with our custom plugin in the row named \"MyNVML\".\n",
    "\n",
    "## 3.4 Improve the Custom Plugin with NVTX Semantics\n",
    "\n",
    "Our first custom plugin was pretty basic. Let's improve it and add NVTX semantic to facilitate the analysis.\n",
    "\n",
    "Execute the following code box to see how NVTX counter semantics can be used to set the counter unit and minimum and maximum values."
   ]
  },
  {
   "cell_type": "code",
   "execution_count": null,
   "id": "f1b0d10b",
   "metadata": {},
   "outputs": [],
   "source": [
    "!diff -d -U1 --color=always nsys/plugins/mynvml.c nsys/plugins/mynvml_units.c"
   ]
  },
  {
   "cell_type": "markdown",
   "id": "8ca6507f",
   "metadata": {},
   "source": [
    "Execute the following code box to compile the modified code and copy the executable and the yaml file into the Nsight Systems plugins folder."
   ]
  },
  {
   "cell_type": "code",
   "execution_count": null,
   "id": "c06c87a1",
   "metadata": {},
   "outputs": [],
   "source": [
    "!gcc nsys/plugins/mynvml_units.c \\\n",
    "    -I/dli/task/NVTX/c/include -I/usr/local/cuda/include \\\n",
    "    -L/usr/local/cuda/lib64/stubs -lnvidia-ml -ldl \\\n",
    "    -o nsys/plugins/mynvml/mynvml_plugin\n",
    "\n",
    "# Copy the plugin binary and the yaml file into the Nsight Systems plugins directory.\n",
    "!cp -r nsys/plugins/mynvml /opt/nvidia/nsight-systems/2025.1.1/target-linux-x64/plugins/\n",
    "\n",
    "!echo done"
   ]
  },
  {
   "cell_type": "markdown",
   "id": "849243f0",
   "metadata": {},
   "source": [
    "<div class=\"alert alert-block alert-info\">\n",
    "<b>Exercise:</b> Profile the improved plugin and see the changes in the rows under <i>MyNVML</i> in the Nsight Systems timeline.\n",
    "</div>"
   ]
  },
  {
   "cell_type": "code",
   "execution_count": null,
   "id": "a58b9df7",
   "metadata": {},
   "outputs": [],
   "source": []
  },
  {
   "cell_type": "code",
   "execution_count": null,
   "id": "919853ce",
   "metadata": {
    "jupyter": {
     "source_hidden": true
    }
   },
   "outputs": [],
   "source": [
    "!nsys profile \\\n",
    "--trace cuda,nvtx,nvvideo \\\n",
    "--output reports/optimized_cvcuda_plugins_mynvml_semantics --force-overwrite=true \\\n",
    "--enable=MyNvml \\\n",
    "python video_segmentation/main_nvtx-cvcuda-nvcodec.py"
   ]
  },
  {
   "cell_type": "markdown",
   "id": "597e8e6d",
   "metadata": {
    "jupyter": {
     "source_hidden": true
    }
   },
   "source": [
    "The following screenshot shows the Nsight Systems timeline for the improved custom plugin.\n",
    "\n",
    "<center><img src=images/step3/nsys_timeline_plugin_mynvml_semantics.png></center>\n",
    "\n",
    "Specifying the units allows Nsight Systems to apply appropriate unit prefixes such as *k*, *M*, *G*, etc.\n",
    "Specifying the limits for the utilization counters provides a better visual assessment.\n",
    "\n",
    "You can also specify detailed hierarchies for your NVTX collection. See NVTX scopes in the [nvToolsExtPayload.h](/dli/task/NVTX/c/include/nvtx3/nvToolsExtPayload.h) header."
   ]
  },
  {
   "cell_type": "markdown",
   "id": "b0cb49ec",
   "metadata": {},
   "source": [
    "\n",
    "<div class=\"alert alert-block alert-success\">\n",
    "    <b>Summary</b>\n",
    "    <p>In this step, we learned about using Nsight Systems' plugins to collect additional data.</p>\n",
    "    <p>We have built a custom plugin that uses extended NVTX annotations to expose counter data.</p>\n",
    "    <p>NVTX extended payloads can be used to describe data structures and additional data to NVTX events.</p>\n",
    "</div>\n",
    "\n",
    "Further information about plugins can be found in the Nsight Systems documentation: https://docs.nvidia.com/nsight-systems/UserGuide/index.html#nsight-systems-plugins-preview.\n",
    "\n",
    "Please click [here](step4.ipynb) to move to the next step."
   ]
  }
 ],
 "metadata": {
  "kernelspec": {
   "display_name": "venv_cuda",
   "language": "python",
   "name": "python3"
  },
  "language_info": {
   "codemirror_mode": {
    "name": "ipython",
    "version": 3
   },
   "file_extension": ".py",
   "mimetype": "text/x-python",
   "name": "python",
   "nbconvert_exporter": "python",
   "pygments_lexer": "ipython3",
   "version": "3.12.2"
  }
 },
 "nbformat": 4,
 "nbformat_minor": 5
}
