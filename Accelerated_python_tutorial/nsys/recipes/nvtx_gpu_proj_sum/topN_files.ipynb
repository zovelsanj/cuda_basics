{
 "cells": [
  {
   "cell_type": "markdown",
   "metadata": {},
   "source": [
    "# Top NVTX ranges on CPU and GPU\n",
    "Users add NVTX ranges on the CPU thread to annotate the various phases of their code’s algorithms. This notebook identifies the top NVTX ranges per report according to duration. Nsight Systems automatically projects a NVTX range onto the GPU by analyzing any CUDA work launched from within that range on the same CPU thread. The projection refits the range's start and end time to tightly wrap the CUDA launches, memcopies and memsets invoked within it. The resulting duration (end-start) is then analyzed here to identify the top NVTX ranges when projected on to the GPU.\n",
    "\n",
    "NOTES:\n",
    "* CUDA work launched on threads other than the one which opened & closed the range are not counted towards the projection because they may be intended for other NVTX ranges or not intended to be tracked.\n",
    "* Any NVTX ranges that start or end outside the scope of the report being analyzed are discarded.\n",
    "* Any NVTX ranges that start and end on different threads are discarded.\n",
    "* Any NVTX ranges with zero duration after GPU projection are discarded."
   ]
  },
  {
   "cell_type": "code",
   "execution_count": null,
   "metadata": {},
   "outputs": [],
   "source": [
    "import pandas as pd\n",
    "import plotly.offline as pyo\n",
    "\n",
    "from IPython.display import display, HTML, Markdown\n",
    "\n",
    "import nsys_pres\n",
    "\n",
    "display(HTML(\"<style>.container { width:95% !important; }</style>\"))\n",
    "pd.set_option('display.max_colwidth', None)\n",
    "pd.set_option('display.max_rows', None)\n",
    "pd.set_option('display.float_format', '{:.1f}'.format)\n",
    "pyo.init_notebook_mode()"
   ]
  },
  {
   "cell_type": "markdown",
   "metadata": {},
   "source": [
    "## Top NVTX ranges per rank"
   ]
  },
  {
   "cell_type": "markdown",
   "metadata": {},
   "source": [
    "The table and the bar chart below show the top N of the NVTX ranges on the CPU according to the total duration for each report. Use the slider to adjust the value of N."
   ]
  },
  {
   "cell_type": "code",
   "execution_count": null,
   "metadata": {},
   "outputs": [],
   "source": [
    "ranks_df = pd.read_parquet(\"rank_stats.parquet\")\n",
    "original_sum_col_name = \"Sum of NVTX Ranges on CPU\"\n",
    "# Convert ns to s.\n",
    "ranks_df[original_sum_col_name] = ranks_df[original_sum_col_name] * 1e-9\n",
    "\n# The following two lines have been added to show report names instead of ranks.\n",
    "files_df = pd.read_parquet(\"files.parquet\")\n",
    "df = pd.merge(ranks_df.reset_index(), files_df, on='Rank')\n",
    "\n",
    "nsys_pres.display_top_n_per_rank(df, 'Text', original_sum_col_name, 'File', xaxis_title='NVTX Range', yaxis_title='Duration (s)', title='Duration of NVTX ranges on CPU')"
   ]
  },
  {
   "cell_type": "markdown",
   "metadata": {},
   "source": [
    "## Top NVTX ranges per rank when projected on the GPU"
   ]
  },
  {
   "cell_type": "markdown",
   "metadata": {},
   "source": [
    "The table and the bar chart below show the total duration of the top N of the NVTX ranges when projected on to the GPU for each report. Use the slider to adjust the value of N."
   ]
  },
  {
   "cell_type": "code",
   "execution_count": null,
   "metadata": {},
   "outputs": [],
   "source": [
    "projected_sum_col_name = \"Sum\"\n",
    "# Convert ns to s.\n",
    "ranks_df[projected_sum_col_name] = ranks_df[projected_sum_col_name] * 1e-9\n",
    "\n# The following line has been added to show report names instead of ranks.\n",
    "df = pd.merge(ranks_df.reset_index(), files_df, on='Rank')\n",
    "\n",
    "nsys_pres.display_top_n_per_rank(df, 'Text', projected_sum_col_name, 'File', xaxis_title='NVTX Range', yaxis_title='Duration (s)', title='Duration of NVTX ranges when projected on GPU')"
   ]
  },
  {
   "cell_type": "markdown",
   "metadata": {},
   "source": [
    "## Files\n",
    "The table associates each rank number with the original filename. Ranks are assigned assuming that the file names include the rank with sufficient zero padding for proper sorting. Otherwise, the actual rank may differ from the assigned ID."
   ]
  },
  {
   "cell_type": "code",
   "execution_count": null,
   "metadata": {},
   "outputs": [],
   "source": [
    "display(files_df)"
   ]
  }
 ],
 "metadata": {
  "language_info": {
   "name": "python"
  }
 },
 "nbformat": 4,
 "nbformat_minor": 2
}
