{
 "cells": [
  {
   "cell_type": "markdown",
   "id": "fe499a61",
   "metadata": {},
   "source": [
    "## Optimizing Applications Using Nsight Systems"
   ]
  },
  {
   "cell_type": "markdown",
   "id": "43f84440",
   "metadata": {},
   "source": [
    "Congratulations! You have successfully completed the Nsight Systems lab.\n",
    "We hope that you enjoyed this module and learned useful techniques and strategies on how to use Nsight Systems to optimize applications to efficiently utilize the system resources.\n",
    "\n",
    "If you are interested in learning more about the tool, here are some resources:\n",
    "- Download Nsight Systems for free from http://developer.nvidia.com/nsight-systems\n",
    "\n",
    "### Training\n",
    "- Documentation is at https://docs.nvidia.com/nsight-systems/index.html\n",
    "- Blog posts: https://developer.nvidia.com/blog/tag/nsight-systems/\n",
    "\n",
    "### Questions/Requests/Comments?\n",
    "- Email: nsight-systems@nvidia.com\n",
    "- Developer forums: https://devtalk.nvidia.com/default/board/308/nsight-systems/"
   ]
  }
 ],
 "metadata": {
  "kernelspec": {
   "display_name": "Python 3 (ipykernel)",
   "language": "python",
   "name": "python3"
  },
  "language_info": {
   "codemirror_mode": {
    "name": "ipython",
    "version": 3
   },
   "file_extension": ".py",
   "mimetype": "text/x-python",
   "name": "python",
   "nbconvert_exporter": "python",
   "pygments_lexer": "ipython3",
   "version": "3.10.12"
  }
 },
 "nbformat": 4,
 "nbformat_minor": 5
}
