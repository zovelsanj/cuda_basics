{
 "cells": [
  {
   "cell_type": "markdown",
   "metadata": {},
   "source": [
    "# NVIDIA HPC Training Series\n",
    "\n",
    "This series of labs serves as an introduction to NVIDIA's accelerated computing platform through the use of the [NVIDIA HPC SDK](https://developer.nvidia.com/hpc-sdk).\n",
    "\n",
    "The target audience of this training series is application developers who have an interest in high-performance computing. Participants are expected to have a basic understanding of C/C++ code, including for loops, conditional expressions, etc., and some prior experience writing C/C++ applications. Participants are also assumed to have basic familiarity with running at the command line in Linux, e.g. for compiling code, although it is not necessary.\n",
    "\n",
    "Click one of the labs below to get started.\n",
    "\n",
    "## Introduction\n",
    "\n",
    "[Introduction to Accelerated Computing](Introduction/Introduction_to_Accelerated_Computing/Introduction_to_Accelerated_Computing.ipynb)\n",
    "\n",
    "## CUDA\n",
    "\n",
    "[Lab 1: Introduction to CUDA](CUDA/01_Introduction_to_CUDA/01_Introduction_to_CUDA.ipynb)\n",
    "\n",
    "[Lab 2: Expose Parallelism](CUDA/02_Expose_Parallelism/02_Expose_Parallelism.ipynb)\n",
    "\n",
    "[Lab 3: Coalesce Memory Accesses](CUDA/03_Coalesce_Memory_Accesses/03_Coalesce_Memory_Accesses.ipynb)\n",
    "\n",
    "[Lab 4: Atomics and Reductions](CUDA/04_Atomics_and_Reductions/04_Atomics_and_Reductions.ipynb)\n",
    "\n",
    "[Lab 5: Shared Memory](CUDA/05_Shared_Memory/05_Shared_Memory.ipynb)\n",
    "\n",
    "[Lab 6: Reductions Redux](CUDA/06_Reductions_Redux/06_Reductions_Redux.ipynb)\n",
    "\n",
    "[Lab 7: Managed Memory](CUDA/07_Managed_Memory/07_Managed_Memory.ipynb)\n",
    "\n",
    "[Lab 8: Concurrency with Streams](CUDA/08_Concurrency_with_Streams/08_Concurrency_with_Streams.ipynb)\n",
    "\n",
    "[Lab 9: Performance Analysis](CUDA/09_Performance_Analysis/09_Performance_Analysis.ipynb)"
   ]
  }
 ],
 "metadata": {
  "anaconda-cloud": {},
  "kernelspec": {
   "display_name": "Python 3 (ipykernel)",
   "language": "python",
   "name": "python3"
  },
  "language_info": {
   "codemirror_mode": {
    "name": "ipython",
    "version": 3
   },
   "file_extension": ".py",
   "mimetype": "text/x-python",
   "name": "python",
   "nbconvert_exporter": "python",
   "pygments_lexer": "ipython3",
   "version": "3.9.7"
  }
 },
 "nbformat": 4,
 "nbformat_minor": 4
}
